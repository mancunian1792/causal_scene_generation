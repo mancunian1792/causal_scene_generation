{
 "cells": [
  {
   "cell_type": "code",
   "execution_count": 1,
   "metadata": {},
   "outputs": [],
   "source": [
    "import PIL\n",
    "import numpy as np\n",
    "import itertools\n",
    "import os"
   ]
  },
  {
   "cell_type": "code",
   "execution_count": 2,
   "metadata": {},
   "outputs": [],
   "source": [
    "def all_possible_combinations():\n",
    "    combinations = {}\n",
    "    for elem in os.listdir(\"./Reference/\"):\n",
    "        if os.path.isdir(\"./Reference/\"+elem+\"/\"):\n",
    "            combinations[elem] = [os.getcwd()+\"/Reference/\"+elem+\"/\"+file for file in os.listdir(\"./Reference/\"+elem+\"/\")]\n",
    "    all_combinations = list(itertools.product(*list(combinations.values())))\n",
    "    return all_combinations"
   ]
  },
  {
   "cell_type": "code",
   "execution_count": 3,
   "metadata": {},
   "outputs": [],
   "source": [
    "all_combinations = all_possible_combinations()"
   ]
  },
  {
   "cell_type": "code",
   "execution_count": 4,
   "metadata": {},
   "outputs": [
    {
     "data": {
      "text/plain": [
       "('/home/mancunian92/Documents/courses/DS7995/procedural_generation/images/Reference/Shield/shield_01.png',\n",
       " '/home/mancunian92/Documents/courses/DS7995/procedural_generation/images/Reference/Helmet/helmet_02.png',\n",
       " '/home/mancunian92/Documents/courses/DS7995/procedural_generation/images/Reference/Weapon/weapon_02.png',\n",
       " '/home/mancunian92/Documents/courses/DS7995/procedural_generation/images/Reference/Head/head_02.png',\n",
       " '/home/mancunian92/Documents/courses/DS7995/procedural_generation/images/Reference/Feet/feet_02.png',\n",
       " '/home/mancunian92/Documents/courses/DS7995/procedural_generation/images/Reference/Hair/hair_01.png',\n",
       " '/home/mancunian92/Documents/courses/DS7995/procedural_generation/images/Reference/Bow/bow_01.png',\n",
       " '/home/mancunian92/Documents/courses/DS7995/procedural_generation/images/Reference/Torso/torso_02.png')"
      ]
     },
     "execution_count": 4,
     "metadata": {},
     "output_type": "execute_result"
    }
   ],
   "source": [
    "all_combinations[0]"
   ]
  },
  {
   "cell_type": "code",
   "execution_count": 6,
   "metadata": {},
   "outputs": [],
   "source": [
    "def merge_all_images(images):\n",
    "    img0 = PIL.Image.open(images[0])\n",
    "    img1 = PIL.Image.open(images[1])\n",
    "    merged = merge_2_images(img0, img1)\n",
    "    for imgpath in images[2:]:\n",
    "        img = PIL.Image.open(imgpath)\n",
    "        merged = merge_2_images(merged, img)\n",
    "    return merged"
   ]
  },
  {
   "cell_type": "code",
   "execution_count": 5,
   "metadata": {},
   "outputs": [],
   "source": [
    "def merge_2_images(img1, img2):\n",
    "    img1 = img1.convert(\"RGB\")\n",
    "    img2 = img2.convert(\"RGB\")\n",
    "    assert img1.size[0] == img2.size[0]\n",
    "    assert img1.size[1] == img2.size[1]\n",
    "    merged_image = PIL.Image.new(\"RGB\", size=(img1.size[0], img1.size[1]))\n",
    "    for row in range(img1.size[0]):\n",
    "        for col in range(img1.size[1]):\n",
    "            # If both pixel is (255,255,255) -> White space then keep it\n",
    "            # Else replace it with the one thats not 255,255,255\n",
    "            r1,g1,b1 = img1.getpixel((row,col))\n",
    "            r2,g2,b2 = img2.getpixel((row,col))\n",
    "            if ((r1,g1,b1) != (255,255,255)) & ((r2,g2,b2) == (255,255,255)):\n",
    "                # Replace new pixel by r1,g1,b1\n",
    "                merged_image.putpixel((row,col), (r1,g1,b1))\n",
    "            elif ((r1,g1,b1) == (255,255,255)) & ((r2,g2,b2) != (255,255,255)):\n",
    "                merged_image.putpixel((row,col), (r2,g2,b2))\n",
    "            else:\n",
    "                merged_image.putpixel((row,col), (255,255,255))\n",
    "    return merged_image.convert(\"RGBA\")\n",
    "            "
   ]
  },
  {
   "cell_type": "code",
   "execution_count": 47,
   "metadata": {},
   "outputs": [],
   "source": [
    "RESIZE_WIDTH = 128\n",
    "all_combinations = all_possible_combinations()\n",
    "PATH = './Generated/'\n",
    "counter = 0\n",
    "for comb in all_combinations:\n",
    "    img = merge_all_images(comb)\n",
    "    #wpercent = (RESIZE_WIDTH/float(img.size[0]))\n",
    "    #hsize = int((float(img.size[1])*float(wpercent)))\n",
    "    #img = img.resize((RESIZE_WIDTH,hsize), PIL.Image.ANTIALIAS)\n",
    "    img.save(PATH+\"comb\"+str(counter)+\".png\") \n",
    "    counter+=1"
   ]
  },
  {
   "cell_type": "code",
   "execution_count": 7,
   "metadata": {},
   "outputs": [],
   "source": [
    "head = \"./Reference/Head/head_01.png\"\n",
    "torso = \"./Reference/Torso/torso_01.png\"\n",
    "hair = \"./Reference/Hair/hair_01.png\"\n",
    "weapon = \"./Reference/Weapon/weapon_02.png\"\n",
    "\n",
    "comb = (head, torso, hair, weapon)\n",
    "img = merge_all_images(comb)"
   ]
  },
  {
   "cell_type": "code",
   "execution_count": 8,
   "metadata": {},
   "outputs": [],
   "source": [
    "img.save(\"/home/mancunian92/Documents/courses/DS7995/report/images/procedural_generated.png\")"
   ]
  },
  {
   "cell_type": "code",
   "execution_count": null,
   "metadata": {},
   "outputs": [],
   "source": []
  }
 ],
 "metadata": {
  "kernelspec": {
   "display_name": "Python 3",
   "language": "python",
   "name": "python3"
  },
  "language_info": {
   "codemirror_mode": {
    "name": "ipython",
    "version": 3
   },
   "file_extension": ".py",
   "mimetype": "text/x-python",
   "name": "python",
   "nbconvert_exporter": "python",
   "pygments_lexer": "ipython3",
   "version": "3.6.10"
  }
 },
 "nbformat": 4,
 "nbformat_minor": 2
}
