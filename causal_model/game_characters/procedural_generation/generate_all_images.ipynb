{
 "cells": [
  {
   "cell_type": "code",
   "execution_count": 37,
   "metadata": {},
   "outputs": [],
   "source": [
    "from game_character_scene import draw_duel\n",
    "import itertools\n",
    "import pandas as pd"
   ]
  },
  {
   "cell_type": "code",
   "execution_count": 38,
   "metadata": {},
   "outputs": [],
   "source": [
    "def draw_combination(name, actor, reactor):\n",
    "    \n",
    "    img = draw_duel(actor, reactor)\n",
    "    actor = img.crop((0, 0, int(im1.width/2), int(im1.width/2)))\n",
    "    reactor = img.crop((int(im1.width/2), 0, im1.width, im1.width ))\n",
    "    actor.save(\"../images/generated/splits/\"+name+\"_actor.png\")\n",
    "    reactor.save(\"../images/generated/splits/\"+name+\"_reactor.png\")\n",
    "    img.save(\"../images/generated/\"+name+\".png\")"
   ]
  },
  {
   "cell_type": "code",
   "execution_count": 39,
   "metadata": {},
   "outputs": [],
   "source": [
    " keys = {\n",
    "     \"action\": [\"Attacking\", \"Taunt\", \"Walking\"],\n",
    "     \"reaction\": [\"Dying\", \"Hurt\", \"Idle\", \"Attacking\"],\n",
    "     \"actor\": [\"Satyr\", \"Golem\"],\n",
    "     \"reactor\": [\"Satyr\", \"Golem\"],\n",
    "     \"Satyr\": [\"satyr1\", \"satyr2\", \"satyr3\"],\n",
    "     \"Golem\": [\"golem1\", \"golem2\", \"golem3\"]\n",
    " }"
   ]
  },
  {
   "cell_type": "code",
   "execution_count": 40,
   "metadata": {},
   "outputs": [
    {
     "name": "stdout",
     "output_type": "stream",
     "text": [
      "432\n"
     ]
    }
   ],
   "source": [
    "all_combinations = []\n",
    "duels = list(itertools.product(keys[\"actor\"], keys[\"reactor\"]))\n",
    "action_reactions = list(itertools.product(keys[\"action\"], keys[\"reaction\"]))\n",
    "for duel in duels:\n",
    "    duel_types = list(itertools.product(keys[duel[0]], keys[duel[1]]))\n",
    "    for dtypes in duel_types:\n",
    "        for act_rct in action_reactions:\n",
    "            actor = {\n",
    "                \"name\": duel[0],\n",
    "                \"type\": dtypes[0],\n",
    "                \"action\": act_rct[0]\n",
    "            }\n",
    "\n",
    "            reactor = {\n",
    "                \"name\": duel[1],\n",
    "                \"type\": dtypes[1],\n",
    "                \"reaction\":act_rct[1]\n",
    "            }\n",
    "            all_combinations.append((actor, reactor))\n",
    "print(len(all_combinations))"
   ]
  },
  {
   "cell_type": "code",
   "execution_count": 41,
   "metadata": {},
   "outputs": [],
   "source": [
    "split_df = []\n",
    "for idx in range(len(all_combinations)):\n",
    "    name = \"combination\"+str(idx)\n",
    "    actor, reactor = all_combinations[idx][0], all_combinations[idx][1]\n",
    "    draw_combination(name, actor, reactor)\n",
    "    split_df.append({\"entity\": \"actor\",\n",
    "                    \"name\": actor[\"name\"],\n",
    "                    \"type\": actor[\"type\"],\n",
    "                    \"entity_doing\": \"action\",\n",
    "                    \"entity_doing_type\": actor[\"action\"],\n",
    "                    \"img_name\": name+\"_actor\"})\n",
    "    split_df.append({\"entity\": \"reactor\",\n",
    "                    \"name\": reactor[\"name\"],\n",
    "                    \"type\": reactor[\"type\"],\n",
    "                    \"entity_doing\": \"reaction\",\n",
    "                    \"entity_doing_type\": reactor[\"reaction\"],\n",
    "                    \"img_name\": name+\"_reactor\"})\n",
    "    "
   ]
  },
  {
   "cell_type": "code",
   "execution_count": 42,
   "metadata": {},
   "outputs": [],
   "source": [
    "split_df = pd.DataFrame(data=split_df, columns=list(split_df[0].keys()))\n",
    "split_df.to_csv(\"../images/generated/split_dataset.csv\", index=False)"
   ]
  },
  {
   "cell_type": "code",
   "execution_count": 43,
   "metadata": {},
   "outputs": [],
   "source": [
    "df = []\n",
    "for idx in range(len(all_combinations)):\n",
    "    name = \"combination\"+str(idx)\n",
    "    actor, reactor = all_combinations[idx][0], all_combinations[idx][1]\n",
    "    df.append({\"actor_name\": actor[\"name\"],\n",
    "               \"actor_type\": actor[\"type\"],\n",
    "               \"actor_action\": actor[\"action\"],\n",
    "               \"reactor_name\": reactor[\"name\"],\n",
    "               \"reactor_type\": reactor[\"type\"],\n",
    "               \"reactor_action\": reactor[\"reaction\"],\n",
    "               \"img_name\": name\n",
    "              })"
   ]
  },
  {
   "cell_type": "code",
   "execution_count": 44,
   "metadata": {},
   "outputs": [],
   "source": [
    "data = pd.DataFrame(data=df, columns=list(df[0].keys()))"
   ]
  },
  {
   "cell_type": "code",
   "execution_count": 45,
   "metadata": {},
   "outputs": [],
   "source": [
    "dummy_cols = list(data.columns)\n",
    "dummy_cols.remove(\"img_name\")\n",
    "data = pd.get_dummies(data, columns=dummy_cols)"
   ]
  },
  {
   "cell_type": "code",
   "execution_count": 46,
   "metadata": {},
   "outputs": [],
   "source": [
    "data.to_csv(\"../images/generated/dataset.csv\", index=False)"
   ]
  },
  {
   "cell_type": "code",
   "execution_count": null,
   "metadata": {},
   "outputs": [],
   "source": []
  }
 ],
 "metadata": {
  "kernelspec": {
   "display_name": "Python 3",
   "language": "python",
   "name": "python3"
  },
  "language_info": {
   "codemirror_mode": {
    "name": "ipython",
    "version": 3
   },
   "file_extension": ".py",
   "mimetype": "text/x-python",
   "name": "python",
   "nbconvert_exporter": "python",
   "pygments_lexer": "ipython3",
   "version": "3.6.10"
  }
 },
 "nbformat": 4,
 "nbformat_minor": 2
}
